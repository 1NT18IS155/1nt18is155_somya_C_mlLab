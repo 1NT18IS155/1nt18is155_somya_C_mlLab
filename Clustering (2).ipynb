{
 "cells": [
  {
   "cell_type": "code",
   "execution_count": 304,
   "metadata": {},
   "outputs": [],
   "source": [
    "import numpy as np\n",
    "from random import sample"
   ]
  },
  {
   "cell_type": "code",
   "execution_count": 305,
   "metadata": {},
   "outputs": [],
   "source": [
    "#centroid1=[]\n",
    "#centroid2=[]\n",
    "#centroid3=[]\n",
    "cluster1=[]\n",
    "cluster2=[]\n",
    "cluster3=[]\n",
    "points = [[2,4],[4,3],[5,2],[9,3],[6,12],[10,13],[20,5],[25,8],[21,10],[20,13],[27,9],[12,12]]\n",
    "centroid1=sample(points,1)\n",
    "centroid2=sample(points,1)\n",
    "centroid3=sample(points,1)\n",
    "c_point = [0]*len(points)"
   ]
  },
  {
   "cell_type": "code",
   "execution_count": 306,
   "metadata": {},
   "outputs": [
    {
     "data": {
      "text/plain": [
       "[[27, 9]]"
      ]
     },
     "execution_count": 306,
     "metadata": {},
     "output_type": "execute_result"
    }
   ],
   "source": [
    "centroid1"
   ]
  },
  {
   "cell_type": "code",
   "execution_count": 307,
   "metadata": {},
   "outputs": [
    {
     "data": {
      "text/plain": [
       "[[21, 10]]"
      ]
     },
     "execution_count": 307,
     "metadata": {},
     "output_type": "execute_result"
    }
   ],
   "source": [
    "centroid2"
   ]
  },
  {
   "cell_type": "code",
   "execution_count": 308,
   "metadata": {},
   "outputs": [
    {
     "data": {
      "text/plain": [
       "[[20, 5]]"
      ]
     },
     "execution_count": 308,
     "metadata": {},
     "output_type": "execute_result"
    }
   ],
   "source": [
    "centroid3"
   ]
  },
  {
   "cell_type": "code",
   "execution_count": 309,
   "metadata": {},
   "outputs": [],
   "source": [
    "c1=[]\n",
    "c2=[]\n",
    "c3=[]"
   ]
  },
  {
   "cell_type": "code",
   "execution_count": 310,
   "metadata": {},
   "outputs": [],
   "source": [
    "def euc_dist(p1,p2):\n",
    "    return np.sqrt((np.square(p1[0]-p2[0])+np.square(p1[1]-p2[1])))"
   ]
  },
  {
   "cell_type": "code",
   "execution_count": 311,
   "metadata": {},
   "outputs": [],
   "source": [
    "def clustering(cen1,cen2,cen3):\n",
    "    dist=[0]*3\n",
    "    for i in points:\n",
    "        dist[0]=euc_dist(i,cen1[0])\n",
    "        dist[1]=euc_dist(i,cen2[0])\n",
    "        dist[2]=euc_dist(i,cen3[0])\n",
    "        closest=dist.index(min(dist))+1\n",
    "        if(closest==1):\n",
    "            cluster1.append(i)\n",
    "        if(closest==2):\n",
    "            cluster2.append(i)\n",
    "        if(closest==3):\n",
    "            cluster3.append(i)\n",
    "    c11=np.round(np.mean(cluster1, axis=0),2).tolist()\n",
    "    c22=np.round(np.mean(cluster2, axis=0),2).tolist()\n",
    "    c33=np.round(np.mean(cluster3, axis=0),2).tolist()\n",
    "    return c11,c22,c33"
   ]
  },
  {
   "cell_type": "code",
   "execution_count": 312,
   "metadata": {},
   "outputs": [
    {
     "name": "stdout",
     "output_type": "stream",
     "text": [
      "[26.0, 8.5] [13.8, 12.0] [8.0, 3.4]\n"
     ]
    }
   ],
   "source": [
    "c1,c2,c3=clustering(centroid1,centroid2,centroid3)\n",
    "print(c1,c2,c3)"
   ]
  },
  {
   "cell_type": "code",
   "execution_count": 313,
   "metadata": {},
   "outputs": [
    {
     "name": "stdout",
     "output_type": "stream",
     "text": [
      "In iteration  1 , centroid1= [26.0, 8.5] , centroid2= [13.8, 12.0] . centroid3= [8.0, 3.4]\n",
      "In iteration  2 , centroid1= [24.17, 8.17] , centroid2= [13.0, 12.22] . centroid3= [6.67, 3.22]\n",
      "In iteration  3 , centroid1= [23.45, 8.55] , centroid2= [12.08, 12.25] . centroid3= [6.15, 3.15]\n",
      "In iteration  4 , centroid1= [23.19, 8.69] , centroid2= [11.53, 12.27] . centroid3= [5.88, 3.12]\n",
      "In iteration  5 , centroid1= [23.05, 8.76] , centroid2= [11.17, 12.28] . centroid3= [5.71, 3.1]\n",
      "In iteration  6 , centroid1= [22.96, 8.81] , centroid2= [10.9, 12.29] . centroid3= [5.6, 3.08]\n",
      "In iteration  7 , centroid1= [22.9, 8.84] , centroid2= [10.71, 12.29] . centroid3= [5.52, 3.07]\n",
      "In iteration  8 , centroid1= [22.86, 8.86] , centroid2= [10.56, 12.3] . centroid3= [5.45, 3.06]\n",
      "In iteration  9 , centroid1= [22.83, 8.88] , centroid2= [10.43, 12.3] . centroid3= [5.41, 3.05]\n",
      "In iteration  10 , centroid1= [22.8, 8.89] , centroid2= [10.33, 12.3] . centroid3= [5.37, 3.05]\n",
      "In iteration  11 , centroid1= [22.78, 8.9] , centroid2= [10.25, 12.31] . centroid3= [5.33, 3.04]\n",
      "In iteration  12 , centroid1= [22.77, 8.91] , centroid2= [10.18, 12.31] . centroid3= [5.31, 3.04]\n",
      "In iteration  13 , centroid1= [22.75, 8.92] , centroid2= [10.12, 12.31] . centroid3= [5.28, 3.04]\n",
      "In iteration  14 , centroid1= [22.74, 8.92] , centroid2= [10.07, 12.31] . centroid3= [5.26, 3.04]\n",
      "In iteration  15 , centroid1= [22.73, 8.93] , centroid2= [10.02, 12.31] . centroid3= [5.25, 3.03]\n",
      "In iteration  16 , centroid1= [22.72, 8.93] , centroid2= [9.98, 12.31] . centroid3= [5.23, 3.03]\n",
      "In iteration  17 , centroid1= [22.72, 8.94] , centroid2= [9.94, 12.31] . centroid3= [5.22, 3.03]\n",
      "In iteration  18 , centroid1= [22.71, 8.94] , centroid2= [9.91, 12.32] . centroid3= [5.21, 3.03]\n",
      "In iteration  19 , centroid1= [22.7, 8.95] , centroid2= [9.88, 12.32] . centroid3= [5.19, 3.03]\n",
      "In iteration  20 , centroid1= [22.7, 8.95] , centroid2= [9.86, 12.32] . centroid3= [5.19, 3.02]\n",
      "In iteration  21 , centroid1= [22.69, 8.95] , centroid2= [9.83, 12.32] . centroid3= [5.18, 3.02]\n",
      "In iteration  22 , centroid1= [22.69, 8.95] , centroid2= [9.81, 12.32] . centroid3= [5.17, 3.02]\n",
      "In iteration  23 , centroid1= [22.68, 8.95] , centroid2= [9.79, 12.32] . centroid3= [5.16, 3.02]\n",
      "In iteration  24 , centroid1= [22.68, 8.96] , centroid2= [9.77, 12.32] . centroid3= [5.15, 3.02]\n",
      "In iteration  25 , centroid1= [22.68, 8.96] , centroid2= [9.76, 12.32] . centroid3= [5.15, 3.02]\n",
      "In iteration  26 , centroid1= [22.67, 8.96] , centroid2= [9.74, 12.32] . centroid3= [5.14, 3.02]\n",
      "In iteration  27 , centroid1= [22.67, 8.96] , centroid2= [9.73, 12.32] . centroid3= [5.14, 3.02]\n",
      "In iteration  28 , centroid1= [22.67, 8.96] , centroid2= [9.71, 12.32] . centroid3= [5.13, 3.02]\n",
      "In iteration  29 , centroid1= [22.67, 8.96] , centroid2= [9.7, 12.32] . centroid3= [5.13, 3.02]\n",
      "In iteration  30 , centroid1= [22.66, 8.97] , centroid2= [9.69, 12.32] . centroid3= [5.12, 3.02]\n",
      "In iteration  31 , centroid1= [22.66, 8.97] , centroid2= [9.68, 12.32] . centroid3= [5.12, 3.02]\n",
      "In iteration  32 , centroid1= [22.66, 8.97] , centroid2= [9.67, 12.32] . centroid3= [5.12, 3.02]\n",
      "In iteration  33 , centroid1= [22.66, 8.97] , centroid2= [9.66, 12.32] . centroid3= [5.11, 3.02]\n",
      "In iteration  34 , centroid1= [22.66, 8.97] , centroid2= [9.65, 12.32] . centroid3= [5.11, 3.01]\n",
      "In iteration  35 , centroid1= [22.65, 8.97] , centroid2= [9.64, 12.32] . centroid3= [5.11, 3.01]\n",
      "In iteration  36 , centroid1= [22.65, 8.97] , centroid2= [9.63, 12.32] . centroid3= [5.1, 3.01]\n",
      "In iteration  37 , centroid1= [22.65, 8.97] , centroid2= [9.62, 12.32] . centroid3= [5.1, 3.01]\n"
     ]
    }
   ],
   "source": [
    "c=1\n",
    "while c1!=centroid1[0] or c2!=centroid2[0] or c3!=centroid3[0]:\n",
    "    print(\"In iteration \",c,\", centroid1=\",c1,\", centroid2=\",c2,\". centroid3=\",c3)\n",
    "    centroid1[0]=c1\n",
    "    centroid2[0]=c2\n",
    "    centroid3[0]=c3\n",
    "    c1,c2,c3=clustering(centroid1,centroid2,centroid3)\n",
    "    c=c+1"
   ]
  },
  {
   "cell_type": "code",
   "execution_count": 314,
   "metadata": {},
   "outputs": [
    {
     "name": "stdout",
     "output_type": "stream",
     "text": [
      "[22.65, 8.97] [9.62, 12.32] [5.1, 3.01]\n"
     ]
    }
   ],
   "source": [
    "print(c1,c2,c3)"
   ]
  },
  {
   "cell_type": "code",
   "execution_count": 315,
   "metadata": {},
   "outputs": [
    {
     "data": {
      "text/plain": [
       "[[22.65, 8.97]]"
      ]
     },
     "execution_count": 315,
     "metadata": {},
     "output_type": "execute_result"
    }
   ],
   "source": [
    "centroid1"
   ]
  },
  {
   "cell_type": "code",
   "execution_count": 316,
   "metadata": {},
   "outputs": [
    {
     "data": {
      "text/plain": [
       "[[9.62, 12.32]]"
      ]
     },
     "execution_count": 316,
     "metadata": {},
     "output_type": "execute_result"
    }
   ],
   "source": [
    "centroid2"
   ]
  },
  {
   "cell_type": "code",
   "execution_count": 317,
   "metadata": {},
   "outputs": [
    {
     "data": {
      "text/plain": [
       "[[5.1, 3.01]]"
      ]
     },
     "execution_count": 317,
     "metadata": {},
     "output_type": "execute_result"
    }
   ],
   "source": [
    "centroid3"
   ]
  },
  {
   "cell_type": "code",
   "execution_count": null,
   "metadata": {},
   "outputs": [],
   "source": []
  }
 ],
 "metadata": {
  "kernelspec": {
   "display_name": "Python 3",
   "language": "python",
   "name": "python3"
  },
  "language_info": {
   "codemirror_mode": {
    "name": "ipython",
    "version": 3
   },
   "file_extension": ".py",
   "mimetype": "text/x-python",
   "name": "python",
   "nbconvert_exporter": "python",
   "pygments_lexer": "ipython3",
   "version": "3.7.4"
  }
 },
 "nbformat": 4,
 "nbformat_minor": 2
}
