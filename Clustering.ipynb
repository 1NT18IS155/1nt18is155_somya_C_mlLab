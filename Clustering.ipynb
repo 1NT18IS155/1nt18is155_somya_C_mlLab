{
 "cells": [
  {
   "cell_type": "code",
   "execution_count": 143,
   "metadata": {},
   "outputs": [],
   "source": [
    "import numpy as np\n",
    "from random import sample"
   ]
  },
  {
   "cell_type": "code",
   "execution_count": 144,
   "metadata": {},
   "outputs": [],
   "source": [
    "#centroid1=[]\n",
    "#centroid2=[]\n",
    "#centroid3=[]\n",
    "cluster1=[]\n",
    "cluster2=[]\n",
    "cluster3=[]\n",
    "points = [[2,4],[4,3],[5,2],[9,3],[6,12],[10,13],[20,5],[25,8],[21,10],[20,13],[27,9],[12,12]]\n",
    "centroid1=sample(points,1)\n",
    "centroid2=sample(points,1)\n",
    "centroid3=sample(points,1)\n",
    "c_point = [0]*len(points)"
   ]
  },
  {
   "cell_type": "code",
   "execution_count": 145,
   "metadata": {},
   "outputs": [
    {
     "data": {
      "text/plain": [
       "[[20, 13]]"
      ]
     },
     "execution_count": 145,
     "metadata": {},
     "output_type": "execute_result"
    }
   ],
   "source": [
    "centroid1"
   ]
  },
  {
   "cell_type": "code",
   "execution_count": 146,
   "metadata": {},
   "outputs": [
    {
     "data": {
      "text/plain": [
       "[[4, 3]]"
      ]
     },
     "execution_count": 146,
     "metadata": {},
     "output_type": "execute_result"
    }
   ],
   "source": [
    "centroid2"
   ]
  },
  {
   "cell_type": "code",
   "execution_count": 147,
   "metadata": {},
   "outputs": [
    {
     "data": {
      "text/plain": [
       "[[2, 4]]"
      ]
     },
     "execution_count": 147,
     "metadata": {},
     "output_type": "execute_result"
    }
   ],
   "source": [
    "centroid3"
   ]
  },
  {
   "cell_type": "code",
   "execution_count": 148,
   "metadata": {},
   "outputs": [],
   "source": [
    "def euc_dist(p1,p2):\n",
    "    return np.sqrt((np.square(p1[0]-p2[0])+np.square(p1[1]-p2[1])))"
   ]
  },
  {
   "cell_type": "code",
   "execution_count": 149,
   "metadata": {},
   "outputs": [],
   "source": [
    "def clustering(centroid1,centroid2,centroid3):\n",
    "    dist=[0]*3\n",
    "    for i in points:\n",
    "        dist[0]=euc_dist(i,centroid1[0])\n",
    "        dist[1]=euc_dist(i,centroid2[0])\n",
    "        dist[2]=euc_dist(i,centroid3[0])\n",
    "        closest=dist.index(min(dist))+1\n",
    "        if(closest==1):\n",
    "            cluster1.append(i)\n",
    "        if(closest==2):\n",
    "            cluster2.append(i)\n",
    "        if(closest==3):\n",
    "            cluster3.append(i)\n",
    "    centroid1=np.mean(cluster1, axis=0)\n",
    "    centroid2=np.mean(cluster2, axis=0)\n",
    "    centroid3=np.mean(cluster3, axis=0)\n",
    "    #cluster1=null\n",
    "    #cluster2=null\n",
    "    #cluster3=null\n",
    "    return centroid1,centroid2,centroid3"
   ]
  },
  {
   "cell_type": "code",
   "execution_count": 150,
   "metadata": {},
   "outputs": [],
   "source": [
    "centroid1,centroid2,centroid3=clustering(centroid1,centroid2,centroid3)"
   ]
  },
  {
   "cell_type": "code",
   "execution_count": 151,
   "metadata": {},
   "outputs": [
    {
     "data": {
      "text/plain": [
       "array([19.28571429, 10.        ])"
      ]
     },
     "execution_count": 151,
     "metadata": {},
     "output_type": "execute_result"
    }
   ],
   "source": [
    "centroid1"
   ]
  },
  {
   "cell_type": "code",
   "execution_count": 152,
   "metadata": {},
   "outputs": [
    {
     "data": {
      "text/plain": [
       "array([6.        , 2.66666667])"
      ]
     },
     "execution_count": 152,
     "metadata": {},
     "output_type": "execute_result"
    }
   ],
   "source": [
    "centroid2"
   ]
  },
  {
   "cell_type": "code",
   "execution_count": 153,
   "metadata": {},
   "outputs": [
    {
     "data": {
      "text/plain": [
       "array([4., 8.])"
      ]
     },
     "execution_count": 153,
     "metadata": {},
     "output_type": "execute_result"
    }
   ],
   "source": [
    "centroid3"
   ]
  },
  {
   "cell_type": "code",
   "execution_count": null,
   "metadata": {},
   "outputs": [],
   "source": []
  }
 ],
 "metadata": {
  "kernelspec": {
   "display_name": "Python 3",
   "language": "python",
   "name": "python3"
  },
  "language_info": {
   "codemirror_mode": {
    "name": "ipython",
    "version": 3
   },
   "file_extension": ".py",
   "mimetype": "text/x-python",
   "name": "python",
   "nbconvert_exporter": "python",
   "pygments_lexer": "ipython3",
   "version": "3.7.4"
  }
 },
 "nbformat": 4,
 "nbformat_minor": 2
}
